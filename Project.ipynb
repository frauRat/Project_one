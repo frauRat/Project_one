{
 "cells": [
  {
   "cell_type": "markdown",
   "metadata": {
    "toc": true
   },
   "source": [
    "<h1>Содержание<span class=\"tocSkip\"></span></h1>\n",
    "<div class=\"toc\"><ul class=\"toc-item\"><li><span><a href=\"#Подготовка-данных\" data-toc-modified-id=\"Подготовка-данных-1\"><span class=\"toc-item-num\">1&nbsp;&nbsp;</span>Подготовка данных</a></span></li><li><span><a href=\"#Исследование-задачи\" data-toc-modified-id=\"Исследование-задачи-2\"><span class=\"toc-item-num\">2&nbsp;&nbsp;</span>Исследование задачи</a></span></li><li><span><a href=\"#Борьба-с-дисбалансом\" data-toc-modified-id=\"Борьба-с-дисбалансом-3\"><span class=\"toc-item-num\">3&nbsp;&nbsp;</span>Борьба с дисбалансом</a></span></li><li><span><a href=\"#Тестирование-модели\" data-toc-modified-id=\"Тестирование-модели-4\"><span class=\"toc-item-num\">4&nbsp;&nbsp;</span>Тестирование модели</a></span></li><li><span><a href=\"#Чек-лист-готовности-проекта\" data-toc-modified-id=\"Чек-лист-готовности-проекта-5\"><span class=\"toc-item-num\">5&nbsp;&nbsp;</span>Чек-лист готовности проекта</a></span></li></ul></div>"
   ]
  },
  {
   "cell_type": "markdown",
   "metadata": {},
   "source": [
    "<div style=\"border:solid blue 2px; padding: 20px\">\n",
    "Привет Елена! Меня зовут Андрей Петрушин, я буду проверять твой проект. Предлагаю общаться на «ты», это упрощает коммуникацию :) Но если это некомфортно - можем перейти на “Вы”.\n",
    "\n",
    "Вижу, что тобой проделана большая работа над проектом и он выполнен на хорошем уровне. Моя основная цель при проверке работы — помочь сделать проект лучше и возможно, поделиться своим опытом решения подобных задач.\n",
    "\n",
    "Я буду делать комментарии четырьмя цветами:\n",
    "\n",
    "<font color='blue'>Комментарий ревьювера синий текст - просто текст комментария</font>\n",
    "    \n",
    "<font color=\"green\">Комментарий ревьювера   \n",
    "✔️ зеленый текст - все отлично, хорошее решение</font>\n",
    "    \n",
    "<font color=\"darkorange\">Комментарий ревьювера    \n",
    "⚠️ оранжевый текст - есть рекомендации, в другой раз можно сделать иначе</font>\n",
    "    \n",
    "<font color=\"red\">Комментарий ревьювера   \n",
    "❌ красный текст - есть недочеты, их нужно исправить и проект будет принят</font>\n",
    "    \n",
    "Пожалуйста, не удаляй мои комментарии, нам обоим будет проще разобраться в недочетах, что и как исправлено. Свои комментарии тоже отмечай, например другим цветом или надписью “Комментарий студента”. \n",
    "\n",
    "\\<font color='purple'> Этот код позволяет менять цвет текста. \\</font>\n",
    "</div>\n"
   ]
  },
  {
   "cell_type": "markdown",
   "metadata": {},
   "source": [
    "<font color='blue'> Комментарий студента. Андрей, привет! Спасибо за оперативную проверку. Все критические замечания я исправила."
   ]
  },
  {
   "cell_type": "markdown",
   "metadata": {},
   "source": [
    "<font color=\"green\">Комментарий ревьювера 2   \n",
    "✔️ Хорошо!</font>"
   ]
  },
  {
   "cell_type": "markdown",
   "metadata": {},
   "source": [
    "# Отток клиентов"
   ]
  },
  {
   "cell_type": "markdown",
   "metadata": {},
   "source": [
    "Из «Бета-Банка» стали уходить клиенты. Каждый месяц. Немного, но заметно. Банковские маркетологи посчитали: сохранять текущих клиентов дешевле, чем привлекать новых.\n",
    "\n",
    "Нужно спрогнозировать, уйдёт клиент из банка в ближайшее время или нет. Вам предоставлены исторические данные о поведении клиентов и расторжении договоров с банком. \n",
    "\n",
    "Постройте модель с предельно большим значением *F1*-меры. Чтобы сдать проект успешно, нужно довести метрику до 0.59. Проверьте *F1*-меру на тестовой выборке самостоятельно.\n",
    "\n",
    "Дополнительно измеряйте *AUC-ROC*, сравнивайте её значение с *F1*-мерой.\n",
    "\n",
    "Источник данных: [https://www.kaggle.com/barelydedicated/bank-customer-churn-modeling](https://www.kaggle.com/barelydedicated/bank-customer-churn-modeling)"
   ]
  },
  {
   "cell_type": "markdown",
   "metadata": {},
   "source": [
    "<font color=\"green\">Комментарий ревьювера   \n",
    "✔️ Хорошо, что ты приводишь описание проекта</font>"
   ]
  },
  {
   "cell_type": "markdown",
   "metadata": {},
   "source": [
    "## Подготовка данных"
   ]
  },
  {
   "cell_type": "markdown",
   "metadata": {},
   "source": [
    "Откроем файл с данными и ознакомимся с ними, открыв первые пять строк и вызвав функцию .info()"
   ]
  },
  {
   "cell_type": "code",
   "execution_count": 1,
   "metadata": {},
   "outputs": [
    {
     "name": "stdout",
     "output_type": "stream",
     "text": [
      "<class 'pandas.core.frame.DataFrame'>\n",
      "RangeIndex: 10000 entries, 0 to 9999\n",
      "Data columns (total 14 columns):\n",
      " #   Column           Non-Null Count  Dtype  \n",
      "---  ------           --------------  -----  \n",
      " 0   RowNumber        10000 non-null  int64  \n",
      " 1   CustomerId       10000 non-null  int64  \n",
      " 2   Surname          10000 non-null  object \n",
      " 3   CreditScore      10000 non-null  int64  \n",
      " 4   Geography        10000 non-null  object \n",
      " 5   Gender           10000 non-null  object \n",
      " 6   Age              10000 non-null  int64  \n",
      " 7   Tenure           9091 non-null   float64\n",
      " 8   Balance          10000 non-null  float64\n",
      " 9   NumOfProducts    10000 non-null  int64  \n",
      " 10  HasCrCard        10000 non-null  int64  \n",
      " 11  IsActiveMember   10000 non-null  int64  \n",
      " 12  EstimatedSalary  10000 non-null  float64\n",
      " 13  Exited           10000 non-null  int64  \n",
      "dtypes: float64(3), int64(8), object(3)\n",
      "memory usage: 1.1+ MB\n"
     ]
    },
    {
     "data": {
      "text/plain": [
       "None"
      ]
     },
     "metadata": {},
     "output_type": "display_data"
    },
    {
     "data": {
      "text/html": [
       "<div>\n",
       "<style scoped>\n",
       "    .dataframe tbody tr th:only-of-type {\n",
       "        vertical-align: middle;\n",
       "    }\n",
       "\n",
       "    .dataframe tbody tr th {\n",
       "        vertical-align: top;\n",
       "    }\n",
       "\n",
       "    .dataframe thead th {\n",
       "        text-align: right;\n",
       "    }\n",
       "</style>\n",
       "<table border=\"1\" class=\"dataframe\">\n",
       "  <thead>\n",
       "    <tr style=\"text-align: right;\">\n",
       "      <th></th>\n",
       "      <th>RowNumber</th>\n",
       "      <th>CustomerId</th>\n",
       "      <th>Surname</th>\n",
       "      <th>CreditScore</th>\n",
       "      <th>Geography</th>\n",
       "      <th>Gender</th>\n",
       "      <th>Age</th>\n",
       "      <th>Tenure</th>\n",
       "      <th>Balance</th>\n",
       "      <th>NumOfProducts</th>\n",
       "      <th>HasCrCard</th>\n",
       "      <th>IsActiveMember</th>\n",
       "      <th>EstimatedSalary</th>\n",
       "      <th>Exited</th>\n",
       "    </tr>\n",
       "  </thead>\n",
       "  <tbody>\n",
       "    <tr>\n",
       "      <th>0</th>\n",
       "      <td>1</td>\n",
       "      <td>15634602</td>\n",
       "      <td>Hargrave</td>\n",
       "      <td>619</td>\n",
       "      <td>France</td>\n",
       "      <td>Female</td>\n",
       "      <td>42</td>\n",
       "      <td>2.0</td>\n",
       "      <td>0.00</td>\n",
       "      <td>1</td>\n",
       "      <td>1</td>\n",
       "      <td>1</td>\n",
       "      <td>101348.88</td>\n",
       "      <td>1</td>\n",
       "    </tr>\n",
       "    <tr>\n",
       "      <th>1</th>\n",
       "      <td>2</td>\n",
       "      <td>15647311</td>\n",
       "      <td>Hill</td>\n",
       "      <td>608</td>\n",
       "      <td>Spain</td>\n",
       "      <td>Female</td>\n",
       "      <td>41</td>\n",
       "      <td>1.0</td>\n",
       "      <td>83807.86</td>\n",
       "      <td>1</td>\n",
       "      <td>0</td>\n",
       "      <td>1</td>\n",
       "      <td>112542.58</td>\n",
       "      <td>0</td>\n",
       "    </tr>\n",
       "    <tr>\n",
       "      <th>2</th>\n",
       "      <td>3</td>\n",
       "      <td>15619304</td>\n",
       "      <td>Onio</td>\n",
       "      <td>502</td>\n",
       "      <td>France</td>\n",
       "      <td>Female</td>\n",
       "      <td>42</td>\n",
       "      <td>8.0</td>\n",
       "      <td>159660.80</td>\n",
       "      <td>3</td>\n",
       "      <td>1</td>\n",
       "      <td>0</td>\n",
       "      <td>113931.57</td>\n",
       "      <td>1</td>\n",
       "    </tr>\n",
       "    <tr>\n",
       "      <th>3</th>\n",
       "      <td>4</td>\n",
       "      <td>15701354</td>\n",
       "      <td>Boni</td>\n",
       "      <td>699</td>\n",
       "      <td>France</td>\n",
       "      <td>Female</td>\n",
       "      <td>39</td>\n",
       "      <td>1.0</td>\n",
       "      <td>0.00</td>\n",
       "      <td>2</td>\n",
       "      <td>0</td>\n",
       "      <td>0</td>\n",
       "      <td>93826.63</td>\n",
       "      <td>0</td>\n",
       "    </tr>\n",
       "    <tr>\n",
       "      <th>4</th>\n",
       "      <td>5</td>\n",
       "      <td>15737888</td>\n",
       "      <td>Mitchell</td>\n",
       "      <td>850</td>\n",
       "      <td>Spain</td>\n",
       "      <td>Female</td>\n",
       "      <td>43</td>\n",
       "      <td>2.0</td>\n",
       "      <td>125510.82</td>\n",
       "      <td>1</td>\n",
       "      <td>1</td>\n",
       "      <td>1</td>\n",
       "      <td>79084.10</td>\n",
       "      <td>0</td>\n",
       "    </tr>\n",
       "  </tbody>\n",
       "</table>\n",
       "</div>"
      ],
      "text/plain": [
       "   RowNumber  CustomerId   Surname  CreditScore Geography  Gender  Age  \\\n",
       "0          1    15634602  Hargrave          619    France  Female   42   \n",
       "1          2    15647311      Hill          608     Spain  Female   41   \n",
       "2          3    15619304      Onio          502    France  Female   42   \n",
       "3          4    15701354      Boni          699    France  Female   39   \n",
       "4          5    15737888  Mitchell          850     Spain  Female   43   \n",
       "\n",
       "   Tenure    Balance  NumOfProducts  HasCrCard  IsActiveMember  \\\n",
       "0     2.0       0.00              1          1               1   \n",
       "1     1.0   83807.86              1          0               1   \n",
       "2     8.0  159660.80              3          1               0   \n",
       "3     1.0       0.00              2          0               0   \n",
       "4     2.0  125510.82              1          1               1   \n",
       "\n",
       "   EstimatedSalary  Exited  \n",
       "0        101348.88       1  \n",
       "1        112542.58       0  \n",
       "2        113931.57       1  \n",
       "3         93826.63       0  \n",
       "4         79084.10       0  "
      ]
     },
     "metadata": {},
     "output_type": "display_data"
    }
   ],
   "source": [
    "#Импортируем необходимые для работы библиотеки:\n",
    "\n",
    "import numpy as np\n",
    "import pandas as pd\n",
    "import seaborn as sns\n",
    "import matplotlib.pyplot as plt\n",
    "from sklearn.model_selection import train_test_split\n",
    "from sklearn.preprocessing import StandardScaler \n",
    "from sklearn.tree import DecisionTreeClassifier\n",
    "from sklearn.linear_model import LogisticRegression\n",
    "from sklearn.metrics import accuracy_score\n",
    "from sklearn.metrics import precision_score\n",
    "from sklearn.metrics import recall_score\n",
    "from sklearn.metrics import f1_score \n",
    "from sklearn.utils import shuffle\n",
    "from sklearn.ensemble import RandomForestClassifier\n",
    "from sklearn.metrics import roc_auc_score\n",
    "\n",
    "# Откроем файл\n",
    "data = pd.read_csv('/datasets/Churn.csv')\n",
    "\n",
    "#Ознакомимся с данными:\n",
    "display(data.info())\n",
    "display(data.head())"
   ]
  },
  {
   "cell_type": "markdown",
   "metadata": {},
   "source": [
    "<font color=\"green\">Комментарий ревьювера   \n",
    "✔️ Молодец, что весь импорт библиотек в начале проекта</font>\n",
    "\n",
    "<font color=\"darkorange\">Комментарий ревьвюера    \n",
    "⚠️ Не стоит в ячейку с импортом помещать исполняемый код, загрузку файла. </font>\n",
    "</font>"
   ]
  },
  {
   "cell_type": "markdown",
   "metadata": {},
   "source": [
    "Изучив данные можно прийти к следующему выводу:\n",
    "1. в таблице есть колонки, которые очевидно не будут влиять на обучаемость модели (фамилии, уникальный идентификатор клиента)\n",
    "2. таблица содержит пропуски в столбце о времени обслуживания клиентов в банке. Данный столбец проанализируем отдельно, чтобы понять как поступить с пропущенными значениями. "
   ]
  },
  {
   "cell_type": "markdown",
   "metadata": {},
   "source": [
    "<font color=\"darkorange\">Комментарий ревьвюера    \n",
    "⚠️ Хорошо бы еще дать описание колонок </font>\n",
    "\n",
    "<font color=\"red\">Комментарий ревьювера   \n",
    "❌ Не совсем понял фразу \"о времени обслуживания клиентов в банке\". Пропуски есть только у Tenure — количество недвижимости у клиента</font>"
   ]
  },
  {
   "cell_type": "markdown",
   "metadata": {},
   "source": [
    "<font color='blue'>Комментарий студента. Речь идет как раз о колонке Tenure. В описании задачи говорится о том, что значения данной колонки -  сколько лет человек является клиентом банка. Количество лет обслуживания в банке не зависит ни от одного столбца в таблице.По логике, заполнить значения средним или медианой нельзя, так как в таком случае мы можем получить искажение данных. Поэтому я провела анализ, насколько данные значения вообще влияют на целевой признак и выявила, зависимости нет. Поэтому мною было принято решение об удалении столбца."
   ]
  },
  {
   "cell_type": "markdown",
   "metadata": {},
   "source": [
    "<font color=\"green\">Комментарий ревьювера 2   \n",
    "✔️ Это право датасайнтиста :)</font>"
   ]
  },
  {
   "cell_type": "code",
   "execution_count": 2,
   "metadata": {},
   "outputs": [
    {
     "data": {
      "image/png": "[encoded data removed]",
      "text/plain": [
       "<Figure size 432x288 with 1 Axes>"
      ]
     },
     "metadata": {
      "needs_background": "light"
     },
     "output_type": "display_data"
    },
    {
     "name": "stdout",
     "output_type": "stream",
     "text": [
      "Коэффициент корреляции: -0.016761481514933764\n"
     ]
    }
   ],
   "source": [
    "#Выведем на экран гистограмму, \n",
    "#которая отражает доли ушедших клиентов из банка в разрезе каждого значения данного столбца.\n",
    "data_a = data.query('Exited == 1')\n",
    "data_b = data.query('Exited == 0')\n",
    "data_b['Tenure'].hist(bins = 25,label = '0')\n",
    "data_a['Tenure'].hist(bins = 25,label = '1')\n",
    "plt.legend()\n",
    "plt.title('Tenure')\n",
    "plt.show()\n",
    "\n",
    "#Посчитаем коэффициент корреляции:\n",
    "print('Коэффициент корреляции:', data['Tenure'].corr(data['Exited']))\n"
   ]
  },
  {
   "cell_type": "markdown",
   "metadata": {},
   "source": [
    "<font color=\"green\">Комментарий ревьювера   \n",
    "✔️ Молодец, хороший анализ</font>"
   ]
  },
  {
   "cell_type": "markdown",
   "metadata": {},
   "source": [
    "Судя по данным, значения доли ушедших клиентов примерно одинаково в разрезе каждого значения срока обслуживания. Таким образом можно сделать вывод о том, что данный показатель не является значимым, и его можно не брать во внимание при обучении модели.\n",
    "Данное предположение мы подтвердили, посчитав коэффициент корреляции, который оказался близким к 0.\n",
    "\n",
    "Уберем лишние столбцы:"
   ]
  },
  {
   "cell_type": "code",
   "execution_count": 3,
   "metadata": {},
   "outputs": [],
   "source": [
    "data = data.drop(['Surname','Tenure','CustomerId','RowNumber'],axis=1)"
   ]
  },
  {
   "cell_type": "markdown",
   "metadata": {},
   "source": [
    "<font color=\"darkorange\">Комментарий ревьвюера    \n",
    "⚠️ Смелое решение относительно 'Tenure'! Я бы все-таки рекомендовал не удалять столбцы, если они потенциально могут оказать влияние на результат :)</font>"
   ]
  },
  {
   "cell_type": "markdown",
   "metadata": {},
   "source": [
    "В оставшихся ячейках изучим корреляции в данных. Так мы можем оценить взаимосвязи в данных и влияние параметров на целевой признак. Воспользуемся для этого методом `sns.pairplot` с параметром hue, в который мы передаем целевой признак.\n"
   ]
  },
  {
   "cell_type": "code",
   "execution_count": 4,
   "metadata": {},
   "outputs": [
    {
     "data": {
      "text/plain": [
       "<seaborn.axisgrid.PairGrid at 0x7f1cdba15d60>"
      ]
     },
     "execution_count": 4,
     "metadata": {},
     "output_type": "execute_result"
    },
    {
     "data": {
      "image/png": "[encoded data removed]",
      "text/plain": [
       "<Figure size 1302.38x1260 with 35 Axes>"
      ]
     },
     "metadata": {
      "needs_background": "light"
     },
     "output_type": "display_data"
    }
   ],
   "source": [
    "sns.pairplot(data,hue = 'Exited',corner=True)"
   ]
  },
  {
   "cell_type": "markdown",
   "metadata": {},
   "source": [
    "На графике видны определенные закономерности в признаках - среди ушедших больше людей среднего возраста (от 40 до 60 лет) с количеством продуктов более 2 и невысоким кредитным рейтингом"
   ]
  },
  {
   "cell_type": "markdown",
   "metadata": {},
   "source": [
    "<font color=\"green\">Комментарий ревьювера   \n",
    "✔️ Хорошо</font>"
   ]
  },
  {
   "cell_type": "markdown",
   "metadata": {},
   "source": [
    "Преобразуем категориальные признаки в численные с помощью техники One-Hot Encoding, а для избежания дамми-ловушки, применим аругмент drop_first и удалим лишние столбцы."
   ]
  },
  {
   "cell_type": "code",
   "execution_count": 5,
   "metadata": {},
   "outputs": [],
   "source": [
    "data_ohe = pd.get_dummies(data, drop_first=True)"
   ]
  },
  {
   "cell_type": "markdown",
   "metadata": {},
   "source": [
    "<font color=\"darkorange\">Комментарий ревьювера    \n",
    "⚠️ Все верно, это самый простой способ кодирования. Но обрати внимание - ты передаешь весь датасет вместо категориальных столбцов. Небольшое дополнение - в get_dummies желательно передавать параметр columns (это столбцы, которые мы преобразуем).\n",
    " \n",
    "Еще хочу посоветовать - проверить на аномалии колонки география и пол. Если например там есть описки, то ты получишь лишний столбец :) . В этом учебном датасете все хорошо, но так бывает очень редко!</font>"
   ]
  },
  {
   "cell_type": "markdown",
   "metadata": {},
   "source": [
    "## Исследование задачи"
   ]
  },
  {
   "cell_type": "markdown",
   "metadata": {},
   "source": [
    "Мы преобразовали данные для дальнейшего анализа и обучения модели. Теперь разобьем нашу выборку на три в пропорции 20\\20\\60. Так мы получим тестовую, обучающую и валидационную выборки."
   ]
  },
  {
   "cell_type": "code",
   "execution_count": 6,
   "metadata": {},
   "outputs": [
    {
     "name": "stdout",
     "output_type": "stream",
     "text": [
      "Значение accuracy - 0.8 | F1 - 0.472| auc-roc -0.674\n"
     ]
    },
    {
     "name": "stderr",
     "output_type": "stream",
     "text": [
      "/tmp/ipykernel_54/1482309962.py:14: SettingWithCopyWarning: \n",
      "A value is trying to be set on a copy of a slice from a DataFrame.\n",
      "Try using .loc[row_indexer,col_indexer] = value instead\n",
      "\n",
      "See the caveats in the documentation: https://pandas.pydata.org/pandas-docs/stable/user_guide/indexing.html#returning-a-view-versus-a-copy\n",
      "  features_train[numerik] = scaler.transform(features_train[numerik])\n",
      "/opt/conda/lib/python3.9/site-packages/pandas/core/indexing.py:1738: SettingWithCopyWarning: \n",
      "A value is trying to be set on a copy of a slice from a DataFrame.\n",
      "Try using .loc[row_indexer,col_indexer] = value instead\n",
      "\n",
      "See the caveats in the documentation: https://pandas.pydata.org/pandas-docs/stable/user_guide/indexing.html#returning-a-view-versus-a-copy\n",
      "  self._setitem_single_column(loc, value[:, i].tolist(), pi)\n",
      "/tmp/ipykernel_54/1482309962.py:15: SettingWithCopyWarning: \n",
      "A value is trying to be set on a copy of a slice from a DataFrame.\n",
      "Try using .loc[row_indexer,col_indexer] = value instead\n",
      "\n",
      "See the caveats in the documentation: https://pandas.pydata.org/pandas-docs/stable/user_guide/indexing.html#returning-a-view-versus-a-copy\n",
      "  features_valid[numerik] = scaler.transform(features_valid[numerik])\n",
      "/opt/conda/lib/python3.9/site-packages/pandas/core/indexing.py:1738: SettingWithCopyWarning: \n",
      "A value is trying to be set on a copy of a slice from a DataFrame.\n",
      "Try using .loc[row_indexer,col_indexer] = value instead\n",
      "\n",
      "See the caveats in the documentation: https://pandas.pydata.org/pandas-docs/stable/user_guide/indexing.html#returning-a-view-versus-a-copy\n",
      "  self._setitem_single_column(loc, value[:, i].tolist(), pi)\n",
      "/tmp/ipykernel_54/1482309962.py:16: SettingWithCopyWarning: \n",
      "A value is trying to be set on a copy of a slice from a DataFrame.\n",
      "Try using .loc[row_indexer,col_indexer] = value instead\n",
      "\n",
      "See the caveats in the documentation: https://pandas.pydata.org/pandas-docs/stable/user_guide/indexing.html#returning-a-view-versus-a-copy\n",
      "  features_test[numerik] = scaler.transform(features_test[numerik])\n",
      "/opt/conda/lib/python3.9/site-packages/pandas/core/indexing.py:1738: SettingWithCopyWarning: \n",
      "A value is trying to be set on a copy of a slice from a DataFrame.\n",
      "Try using .loc[row_indexer,col_indexer] = value instead\n",
      "\n",
      "See the caveats in the documentation: https://pandas.pydata.org/pandas-docs/stable/user_guide/indexing.html#returning-a-view-versus-a-copy\n",
      "  self._setitem_single_column(loc, value[:, i].tolist(), pi)\n"
     ]
    }
   ],
   "source": [
    "target = data_ohe['Exited']\n",
    "features = data_ohe.drop('Exited', axis=1)\n",
    "#Выделим тестовую выборку (20% от общих данных)\n",
    "features_other, features_test, target_other, target_test = train_test_split(\n",
    "    features, target, test_size=0.2, random_state=12345)\n",
    "#Выделим валидационную и обучающую выборки:\n",
    "features_train, features_valid, target_train, target_valid = train_test_split(\n",
    "    features_other, target_other, test_size=0.2, random_state=12345)\n",
    "\n",
    "#Стандартизируем признаки:\n",
    "numerik = ['CreditScore','Age','Balance','EstimatedSalary','NumOfProducts']\n",
    "scaler = StandardScaler()\n",
    "scaler.fit(features_train[numerik]) \n",
    "features_train[numerik] = scaler.transform(features_train[numerik])\n",
    "features_valid[numerik] = scaler.transform(features_valid[numerik])\n",
    "features_test[numerik] = scaler.transform(features_test[numerik]) \n",
    "\n",
    "pd.options.mode.chained_assignment = None \n",
    "\n",
    "#Обучим модель на полученных данных:\n",
    "model = DecisionTreeClassifier(random_state = 12345)\n",
    "model.fit(features_train,target_train)\n",
    "predicted_valid_dtc = model.predict(features_valid)\n",
    "accuracy_valid = accuracy_score(target_valid,predicted_valid_dtc)\n",
    "f1_dtc = f1_score(target_valid,predicted_valid_dtc)\n",
    "auc_roc_dtc = roc_auc_score(target_valid,predicted_valid_dtc)\n",
    "print('Значение accuracy - {} | F1 - {:.3f}| auc-roc -{:.3f}'.format(accuracy_valid,f1_dtc,auc_roc_dtc))\n",
    "\n"
   ]
  },
  {
   "cell_type": "markdown",
   "metadata": {},
   "source": [
    "Построим константную модель и сравним с деревом решений."
   ]
  },
  {
   "cell_type": "markdown",
   "metadata": {},
   "source": [
    "<font color=\"darkorange\">Комментарий ревьювера    \n",
    "⚠️ Чтобы убрать предупреждения можно указать в ячейке с библиотеками:   \n",
    "warnings.filterwarnings('ignore')</font>\n",
    " "
   ]
  },
  {
   "cell_type": "code",
   "execution_count": 7,
   "metadata": {},
   "outputs": [
    {
     "name": "stdout",
     "output_type": "stream",
     "text": [
      "0.7963\n"
     ]
    }
   ],
   "source": [
    "target_pred_constant = pd.Series(target*0)\n",
    "print(accuracy_score(target, target_pred_constant)) \n"
   ]
  },
  {
   "cell_type": "markdown",
   "metadata": {},
   "source": [
    "accuracy решающего дерева и константной модели почти одинаковы. В нашей задаче наблюдается сильный дисбаланс классов (англ. class imbalance), что плохо сказывается на обучении модели."
   ]
  },
  {
   "cell_type": "markdown",
   "metadata": {},
   "source": [
    "## Борьба с дисбалансом"
   ]
  },
  {
   "cell_type": "markdown",
   "metadata": {},
   "source": [
    "Создадим 4 выборки методами upsampling и downsampling"
   ]
  },
  {
   "cell_type": "code",
   "execution_count": 8,
   "metadata": {},
   "outputs": [],
   "source": [
    "def upsample(features, target, repeat):\n",
    "    features_zeros = features[target == 0]\n",
    "    features_ones = features[target == 1]\n",
    "    target_zeros = target[target == 0]\n",
    "    target_ones = target[target == 1]\n",
    "\n",
    "    features_upsampled = pd.concat([features_zeros] + [features_ones] * repeat)\n",
    "    target_upsampled = pd.concat([target_zeros] + [target_ones] * repeat)\n",
    "    \n",
    "    features_upsampled, target_upsampled = shuffle(\n",
    "        features_upsampled, target_upsampled, random_state=12345)\n",
    "    \n",
    "    return features_upsampled, target_upsampled\n",
    "\n",
    "features_upsampled, target_upsampled = upsample(features_train, target_train, 10)\n",
    "\n",
    "def downsample(features, target, fraction):\n",
    "    features_zeros = features[target == 0]\n",
    "    features_ones = features[target == 1]\n",
    "    target_zeros = target[target == 0]\n",
    "    target_ones = target[target == 1]\n",
    "\n",
    "    features_downsampled = pd.concat(\n",
    "        [features_zeros.sample(frac=fraction, random_state=12345)] + [features_ones])\n",
    "    target_downsampled = pd.concat(\n",
    "        [target_zeros.sample(frac=fraction, random_state=12345)] + [target_ones])\n",
    "    \n",
    "    features_downsampled, target_downsampled = shuffle(\n",
    "        features_downsampled, target_downsampled, random_state=12345)\n",
    "    \n",
    "    return features_downsampled, target_downsampled\n",
    "features_downsampled, target_downsampled = downsample(features_train, target_train, 0.1)"
   ]
  },
  {
   "cell_type": "markdown",
   "metadata": {},
   "source": [
    "<font color=\"green\">Комментарий ревьювера   \n",
    "✔️ Хорошие функции</font>"
   ]
  },
  {
   "cell_type": "markdown",
   "metadata": {},
   "source": [
    "По полученным выборкам обучим несколько моделей и посмотрим, какая из них даст наилучший результат. Начнем с логистической регрессии:\n"
   ]
  },
  {
   "cell_type": "code",
   "execution_count": 9,
   "metadata": {},
   "outputs": [
    {
     "name": "stdout",
     "output_type": "stream",
     "text": [
      "Порог = 0.00 | Точность = 0.189, Полнота = 1.000, auc-roc = 0.500, F1 =0.318\n",
      "Порог = 0.05 | Точность = 0.189, Полнота = 1.000, auc-roc = 0.500, F1 =0.318\n",
      "Порог = 0.10 | Точность = 0.189, Полнота = 1.000, auc-roc = 0.500, F1 =0.318\n",
      "Порог = 0.15 | Точность = 0.189, Полнота = 0.997, auc-roc = 0.499, F1 =0.318\n",
      "Порог = 0.20 | Точность = 0.191, Полнота = 0.997, auc-roc = 0.506, F1 =0.321\n",
      "Порог = 0.25 | Точность = 0.193, Полнота = 0.990, auc-roc = 0.512, F1 =0.323\n",
      "Порог = 0.30 | Точность = 0.201, Полнота = 0.987, auc-roc = 0.535, F1 =0.334\n",
      "Порог = 0.35 | Точность = 0.210, Полнота = 0.987, auc-roc = 0.560, F1 =0.347\n",
      "Порог = 0.40 | Точность = 0.222, Полнота = 0.970, auc-roc = 0.587, F1 =0.361\n",
      "Порог = 0.45 | Точность = 0.235, Полнота = 0.954, auc-roc = 0.615, F1 =0.377\n",
      "Порог = 0.50 | Точность = 0.249, Полнота = 0.931, auc-roc = 0.637, F1 =0.393\n",
      "Порог = 0.55 | Точность = 0.267, Полнота = 0.908, auc-roc = 0.663, F1 =0.413\n",
      "Порог = 0.60 | Точность = 0.286, Полнота = 0.842, auc-roc = 0.676, F1 =0.427\n",
      "Порог = 0.65 | Точность = 0.314, Полнота = 0.782, auc-roc = 0.691, F1 =0.448\n",
      "Порог = 0.70 | Точность = 0.353, Полнота = 0.706, auc-roc = 0.702, F1 =0.471\n",
      "Порог = 0.75 | Точность = 0.381, Полнота = 0.617, auc-roc = 0.691, F1 =0.471\n",
      "Порог = 0.80 | Точность = 0.429, Полнота = 0.518, auc-roc = 0.679, F1 =0.469\n",
      "Порог = 0.85 | Точность = 0.507, Полнота = 0.449, auc-roc = 0.674, F1 =0.476\n",
      "Порог = 0.90 | Точность = 0.512, Полнота = 0.271, auc-roc = 0.605, F1 =0.354\n",
      "Порог = 0.95 | Точность = 0.487, Полнота = 0.063, auc-roc = 0.524, F1 =0.111\n"
     ]
    }
   ],
   "source": [
    "model_lr = LogisticRegression(random_state=12345, solver='liblinear')\n",
    "model_lr.fit(features_upsampled, target_upsampled)\n",
    "probabilities_valid = model_lr.predict_proba(features_valid)\n",
    "probabilities_one_valid = probabilities_valid[:, 1]\n",
    "\n",
    "for threshold in np.arange(0, 1, 0.05):\n",
    "    predicted_valid_lr = probabilities_one_valid > threshold\n",
    "    precision = precision_score(target_valid,predicted_valid_lr)\n",
    "    recall = recall_score(target_valid,predicted_valid_lr)\n",
    "    auc_roc = roc_auc_score(target_valid, predicted_valid_lr)\n",
    "    f1 = f1_score(target_valid, predicted_valid_lr)\n",
    "    print(\"Порог = {:.2f} | Точность = {:.3f}, Полнота = {:.3f}, auc-roc = {:.3f}, F1 ={:.3f}\".format(\n",
    "        threshold, precision, recall,auc_roc,f1))\n",
    "    "
   ]
  },
  {
   "cell_type": "code",
   "execution_count": 10,
   "metadata": {},
   "outputs": [
    {
     "name": "stdout",
     "output_type": "stream",
     "text": [
      "Порог = 0.00 | Точность = 0.189, Полнота = 1.000, auc-roc = 0.500, F1 =0.318\n",
      "Порог = 0.05 | Точность = 0.189, Полнота = 1.000, auc-roc = 0.500, F1 =0.318\n",
      "Порог = 0.10 | Точность = 0.189, Полнота = 1.000, auc-roc = 0.500, F1 =0.318\n",
      "Порог = 0.15 | Точность = 0.189, Полнота = 0.997, auc-roc = 0.499, F1 =0.318\n",
      "Порог = 0.20 | Точность = 0.191, Полнота = 0.997, auc-roc = 0.505, F1 =0.320\n",
      "Порог = 0.25 | Точность = 0.194, Полнота = 0.990, auc-roc = 0.514, F1 =0.324\n",
      "Порог = 0.30 | Точность = 0.201, Полнота = 0.990, auc-roc = 0.535, F1 =0.334\n",
      "Порог = 0.35 | Точность = 0.209, Полнота = 0.983, auc-roc = 0.556, F1 =0.344\n",
      "Порог = 0.40 | Точность = 0.218, Полнота = 0.964, auc-roc = 0.579, F1 =0.356\n",
      "Порог = 0.45 | Точность = 0.232, Полнота = 0.954, auc-roc = 0.608, F1 =0.373\n",
      "Порог = 0.50 | Точность = 0.248, Полнота = 0.941, auc-roc = 0.638, F1 =0.393\n",
      "Порог = 0.55 | Точность = 0.263, Полнота = 0.894, auc-roc = 0.655, F1 =0.407\n",
      "Порог = 0.60 | Точность = 0.283, Полнота = 0.838, auc-roc = 0.671, F1 =0.423\n",
      "Порог = 0.65 | Точность = 0.318, Полнота = 0.776, auc-roc = 0.693, F1 =0.451\n",
      "Порог = 0.70 | Точность = 0.346, Полнота = 0.703, auc-roc = 0.697, F1 =0.464\n",
      "Порог = 0.75 | Точность = 0.389, Полнота = 0.624, auc-roc = 0.697, F1 =0.479\n",
      "Порог = 0.80 | Точность = 0.437, Полнота = 0.515, auc-roc = 0.680, F1 =0.473\n",
      "Порог = 0.85 | Точность = 0.498, Полнота = 0.419, auc-roc = 0.660, F1 =0.455\n",
      "Порог = 0.90 | Точность = 0.507, Полнота = 0.228, auc-roc = 0.588, F1 =0.314\n",
      "Порог = 0.95 | Точность = 0.441, Полнота = 0.050, auc-roc = 0.517, F1 =0.089\n"
     ]
    }
   ],
   "source": [
    "model_lr = LogisticRegression(random_state=12345, solver='liblinear')\n",
    "model_lr.fit(features_downsampled, target_downsampled)\n",
    "probabilities_valid = model_lr.predict_proba(features_valid)\n",
    "probabilities_one_valid = probabilities_valid[:, 1]\n",
    "\n",
    "for threshold in np.arange(0, 1, 0.05):\n",
    "    predicted_valid_lr = probabilities_one_valid > threshold\n",
    "    precision = precision_score(target_valid,predicted_valid_lr)\n",
    "    recall = recall_score(target_valid,predicted_valid_lr)\n",
    "    auc_roc = roc_auc_score(target_valid, predicted_valid_lr)\n",
    "    f1 = f1_score(target_valid, predicted_valid_lr)\n",
    "    print(\"Порог = {:.2f} | Точность = {:.3f}, Полнота = {:.3f}, auc-roc = {:.3f}, F1 ={:.3f}\".format(\n",
    "        threshold, precision, recall,auc_roc,f1))\n",
    "    "
   ]
  },
  {
   "cell_type": "code",
   "execution_count": 11,
   "metadata": {},
   "outputs": [
    {
     "name": "stdout",
     "output_type": "stream",
     "text": [
      "Глубина = 1.00 | F1 =0.318 | auc-roc = 0.500\n",
      "Глубина = 2.00 | F1 =0.318 | auc-roc = 0.500\n",
      "Глубина = 3.00 | F1 =0.349 | auc-roc = 0.565\n",
      "Глубина = 4.00 | F1 =0.404 | auc-roc = 0.654\n",
      "Глубина = 5.00 | F1 =0.411 | auc-roc = 0.663\n",
      "Глубина = 6.00 | F1 =0.449 | auc-roc = 0.703\n",
      "Глубина = 7.00 | F1 =0.457 | auc-roc = 0.711\n",
      "Глубина = 8.00 | F1 =0.484 | auc-roc = 0.734\n",
      "Глубина = 9.00 | F1 =0.506 | auc-roc = 0.748\n",
      "Глубина = 10.00 | F1 =0.519 | auc-roc = 0.750\n",
      "Глубина = 11.00 | F1 =0.556 | auc-roc = 0.769\n",
      "Глубина = 12.00 | F1 =0.562 | auc-roc = 0.765\n",
      "Глубина = 13.00 | F1 =0.539 | auc-roc = 0.737\n",
      "Глубина = 14.00 | F1 =0.559 | auc-roc = 0.743\n",
      "Глубина = 15.00 | F1 =0.591 | auc-roc = 0.761\n",
      "Глубина = 16.00 | F1 =0.585 | auc-roc = 0.754\n",
      "Глубина = 17.00 | F1 =0.591 | auc-roc = 0.753\n",
      "Глубина = 18.00 | F1 =0.583 | auc-roc = 0.746\n",
      "Глубина = 19.00 | F1 =0.586 | auc-roc = 0.747\n"
     ]
    }
   ],
   "source": [
    "for depth in range(1, 20, 1):\n",
    "    model_a = RandomForestClassifier(n_estimators=15, max_depth=depth, random_state=12345)\n",
    "    model_a.fit(features_upsampled, target_upsampled)\n",
    "    predicted_valid_a = model_a.predict(features_valid)\n",
    "    auc_roc = roc_auc_score(target_valid, predicted_valid_a)\n",
    "    f1 = f1_score(target_valid, predicted_valid_a)\n",
    "    print(\"Глубина = {:.2f} | F1 ={:.3f} | auc-roc = {:.3f}\".format(\n",
    "        depth, f1, auc_roc,))\n",
    "    \n"
   ]
  },
  {
   "cell_type": "code",
   "execution_count": 12,
   "metadata": {},
   "outputs": [
    {
     "name": "stdout",
     "output_type": "stream",
     "text": [
      "Глубина = 1.00 | F1 =0.318 | auc-roc = 0.500\n",
      "Глубина = 2.00 | F1 =0.319 | auc-roc = 0.500\n",
      "Глубина = 3.00 | F1 =0.368 | auc-roc = 0.599\n",
      "Глубина = 4.00 | F1 =0.382 | auc-roc = 0.622\n",
      "Глубина = 5.00 | F1 =0.406 | auc-roc = 0.657\n",
      "Глубина = 6.00 | F1 =0.429 | auc-roc = 0.686\n",
      "Глубина = 7.00 | F1 =0.443 | auc-roc = 0.701\n",
      "Глубина = 8.00 | F1 =0.443 | auc-roc = 0.700\n",
      "Глубина = 9.00 | F1 =0.451 | auc-roc = 0.708\n",
      "Глубина = 10.00 | F1 =0.460 | auc-roc = 0.719\n",
      "Глубина = 11.00 | F1 =0.456 | auc-roc = 0.712\n",
      "Глубина = 12.00 | F1 =0.451 | auc-roc = 0.707\n",
      "Глубина = 13.00 | F1 =0.458 | auc-roc = 0.714\n",
      "Глубина = 14.00 | F1 =0.456 | auc-roc = 0.711\n",
      "Глубина = 15.00 | F1 =0.457 | auc-roc = 0.713\n",
      "Глубина = 16.00 | F1 =0.456 | auc-roc = 0.712\n",
      "Глубина = 17.00 | F1 =0.456 | auc-roc = 0.711\n",
      "Глубина = 18.00 | F1 =0.462 | auc-roc = 0.718\n",
      "Глубина = 19.00 | F1 =0.459 | auc-roc = 0.714\n"
     ]
    }
   ],
   "source": [
    "for depth in range(1, 20, 1):\n",
    "    model_b = RandomForestClassifier(n_estimators=100, max_depth=depth, random_state=12345)\n",
    "    model_b.fit(features_downsampled, target_downsampled)\n",
    "    predicted_valid_b = model_b.predict(features_valid)\n",
    "    auc_roc = roc_auc_score(target_valid, predicted_valid_b)\n",
    "    f1 = f1_score(target_valid, predicted_valid_b)\n",
    "    print(\"Глубина = {:.2f} | F1 ={:.3f} | auc-roc = {:.3f}\".format(\n",
    "        depth, f1, auc_roc))"
   ]
  },
  {
   "cell_type": "markdown",
   "metadata": {},
   "source": [
    "Наилучший результат мы получили от модели RandomForestClassifier с количеством деревьев 15, глубиной - 15. Проверим как поведет себя модель на тестовой выборке."
   ]
  },
  {
   "cell_type": "markdown",
   "metadata": {},
   "source": [
    "<font color=\"green\">Комментарий ревьювера   \n",
    "✔️ По коду все хорошо!</font>\n",
    "\n",
    "<font color=\"darkorange\">Комментарий ревьювера    \n",
    "⚠️ Еще желательно написать, как изменяется AUC-ROC относительно F1 для разных моделей. Оба растут или изменение в разных направлениях</font>\n"
   ]
  },
  {
   "cell_type": "markdown",
   "metadata": {},
   "source": [
    "<font color=\"red\">Комментарий ревьювера   \n",
    "❌ Очень рекомендуется подписывать ячейки и вывод данных - что мы ищем.   \n",
    "Нужно обязательно написать вывод - с какими парамтерами, моделями какие результаты F1, AUC-ROC получены</font>\n"
   ]
  },
  {
   "cell_type": "markdown",
   "metadata": {},
   "source": [
    "<font color='blue'>Комментарий студента. Не очень поняла данное замечание - кажется на выводе данных указаны названия всех параметров, которые ищем. Ниже написала общий вывод."
   ]
  },
  {
   "cell_type": "markdown",
   "metadata": {},
   "source": [
    "Общий вывод. Мы проанализировали модели случайного леса и логистической регрессии на двух вариантах выборках, полученных методом андерсэмплинга и апсэмплинга (для избавления от дисбаланса). Подбор гиперпараметров дал нам наилучший результат f1 - 0.59 на модели случайного леса с выборками апсэмплинга. Перебрав циклом несколько вариантов глубины леса - мы получили количество деревьев 15, глубина - 15. Также метрика auc-roc с данными параметрами составляет 0.76, что свидетельствует о том, что модель обладает хорошим качеством и предсказания ее неслучайны."
   ]
  },
  {
   "cell_type": "markdown",
   "metadata": {},
   "source": [
    "<font color=\"green\">Комментарий ревьювера 2   \n",
    "✔️ Хорошо!</font>"
   ]
  },
  {
   "cell_type": "markdown",
   "metadata": {},
   "source": [
    "## Тестирование модели"
   ]
  },
  {
   "cell_type": "code",
   "execution_count": 13,
   "metadata": {},
   "outputs": [
    {
     "name": "stdout",
     "output_type": "stream",
     "text": [
      "F1 =0.608 | auc-roc = 0.756\n"
     ]
    }
   ],
   "source": [
    "model_a = RandomForestClassifier(n_estimators=15, max_depth=15, random_state=12345)\n",
    "model_a.fit(features_upsampled, target_upsampled)\n",
    "predicted_valid_ab = model_a.predict(features_test)\n",
    "f1_final= f1_score(target_test, predicted_valid_ab)\n",
    "auc_roc_final = roc_auc_score(target_test, predicted_valid_ab)\n",
    "print(\"F1 ={:.3f} | auc-roc = {:.3f}\".format(f1_final,auc_roc_final))"
   ]
  },
  {
   "cell_type": "markdown",
   "metadata": {},
   "source": [
    "Проверив модель на тестовой выборке, мы достигли желаемых показателей качества. Модель работает."
   ]
  },
  {
   "cell_type": "markdown",
   "metadata": {},
   "source": [
    "<font color=\"green\">Комментарий ревьювера   \n",
    "✔️ Отлично, ты добилась необходимого качества на тестовой выборке, задача решена</font>"
   ]
  },
  {
   "cell_type": "markdown",
   "metadata": {},
   "source": [
    "<font color=\"red\">Комментарий ревьювера   \n",
    "❌ Нужен окончательный вывод</font>"
   ]
  },
  {
   "cell_type": "markdown",
   "metadata": {},
   "source": [
    "<font color='blue'> Комментарий студента. Ниже окончательный вывод."
   ]
  },
  {
   "cell_type": "markdown",
   "metadata": {},
   "source": [
    "# Вывод. "
   ]
  },
  {
   "cell_type": "markdown",
   "metadata": {},
   "source": [
    "В ходе исследования мы одготовили и исследовали данные о клиентах банка, включая баланс классов.\n",
    "Для поиска целевого признака, а именно значений ухода клиентов из банка мы обучили разные модели и нашли лучшую - RandomForestClassifier с количеством деревьев 15, глубиной - 15. \n",
    "Модель дает нам показатель F1 - 0.59 со значением AUC-ROC 0.76. Данные значения говорят нам о хорошем качестве модели и неслучайности предсказания. \n",
    "Провели финальное тестирование, которое подтвердило качество данной модели. На тестовой выборке показатель f1 увеличился, достигнув значения 0.6 "
   ]
  },
  {
   "cell_type": "markdown",
   "metadata": {},
   "source": [
    "<font color='blue'>Молодец,  хороший проект, выполнены все пункты задания. Надеюсь, ты узнала много нового - какие факторы влияют на отток клиентов банка, как убрать дисбаланс классов, какие методы машинного обучения хорошо работают для данного случая. Есть небольшие замечания, но это ничего страшного, их исправление позволит сделать проект лучше и хорошо разобраться в теме!</font>"
   ]
  },
  {
   "cell_type": "markdown",
   "metadata": {},
   "source": [
    "<font color=\"green\">Комментарий ревьювера 2   \n",
    "✔️ Вижу, что удаление столбца не повлияло сильно на результаты :)       \n",
    "    В целом все хорошо, можно принять!</font>"
   ]
  },
  {
   "cell_type": "markdown",
   "metadata": {},
   "source": [
    "## Чек-лист готовности проекта"
   ]
  },
  {
   "cell_type": "markdown",
   "metadata": {},
   "source": [
    "Поставьте 'x' в выполненных пунктах. Далее нажмите Shift+Enter."
   ]
  },
  {
   "cell_type": "markdown",
   "metadata": {},
   "source": [
    "- [x]  Jupyter Notebook открыт\n",
    "- [x]  Весь код выполняется без ошибок\n",
    "- [x]  Ячейки с кодом расположены в порядке исполнения\n",
    "- [x]  Выполнен шаг 1: данные подготовлены\n",
    "- [x]  Выполнен шаг 2: задача исследована\n",
    "    - [x]  Исследован баланс классов\n",
    "    - [x]  Изучены модели без учёта дисбаланса\n",
    "    - [x]  Написаны выводы по результатам исследования\n",
    "- [x]  Выполнен шаг 3: учтён дисбаланс\n",
    "    - [x]  Применено несколько способов борьбы с дисбалансом\n",
    "    - [x]  Написаны выводы по результатам исследования\n",
    "- [x]  Выполнен шаг 4: проведено тестирование\n",
    "- [x]  Удалось достичь *F1*-меры не менее 0.59\n",
    "- [x]  Исследована метрика *AUC-ROC*"
   ]
  },
  {
   "cell_type": "code",
   "execution_count": null,
   "metadata": {},
   "outputs": [],
   "source": []
  }
 ],
 "metadata": {
  "ExecuteTimeLog": [
   {
    "duration": 1290,
    "start_time": "2022-03-28T16:10:58.684Z"
   },
   {
    "duration": 196,
    "start_time": "2022-03-28T16:15:24.290Z"
   },
   {
    "duration": 201,
    "start_time": "2022-03-28T16:17:04.475Z"
   },
   {
    "duration": 31,
    "start_time": "2022-03-28T16:18:04.482Z"
   },
   {
    "duration": 1474,
    "start_time": "2022-03-28T17:48:46.651Z"
   },
   {
    "duration": 29,
    "start_time": "2022-03-28T17:48:48.128Z"
   },
   {
    "duration": 217,
    "start_time": "2022-03-28T17:48:49.327Z"
   },
   {
    "duration": 337,
    "start_time": "2022-03-28T17:49:02.963Z"
   },
   {
    "duration": 279,
    "start_time": "2022-03-28T17:49:18.008Z"
   },
   {
    "duration": 5,
    "start_time": "2022-03-28T17:52:05.209Z"
   },
   {
    "duration": 1179,
    "start_time": "2022-03-28T17:52:28.262Z"
   },
   {
    "duration": 5,
    "start_time": "2022-03-28T17:52:30.585Z"
   },
   {
    "duration": 28,
    "start_time": "2022-03-28T17:52:31.292Z"
   },
   {
    "duration": 19,
    "start_time": "2022-03-28T17:52:35.578Z"
   },
   {
    "duration": 12,
    "start_time": "2022-03-28T18:02:11.345Z"
   },
   {
    "duration": 13,
    "start_time": "2022-03-28T18:02:38.202Z"
   },
   {
    "duration": 113,
    "start_time": "2022-03-28T18:03:32.479Z"
   },
   {
    "duration": 14,
    "start_time": "2022-03-28T18:03:48.390Z"
   },
   {
    "duration": 1612,
    "start_time": "2022-03-29T05:22:14.469Z"
   },
   {
    "duration": 33,
    "start_time": "2022-03-29T05:22:25.626Z"
   },
   {
    "duration": 48,
    "start_time": "2022-03-29T05:31:41.843Z"
   },
   {
    "duration": 1137,
    "start_time": "2022-03-29T12:11:26.536Z"
   },
   {
    "duration": 667,
    "start_time": "2022-03-29T12:11:39.266Z"
   },
   {
    "duration": 150,
    "start_time": "2022-03-29T12:11:53.732Z"
   },
   {
    "duration": 27,
    "start_time": "2022-03-29T12:12:49.099Z"
   },
   {
    "duration": 162,
    "start_time": "2022-03-29T12:12:51.341Z"
   },
   {
    "duration": 307,
    "start_time": "2022-03-29T12:13:10.385Z"
   },
   {
    "duration": 416,
    "start_time": "2022-03-29T12:14:11.708Z"
   },
   {
    "duration": 290,
    "start_time": "2022-03-29T12:14:29.589Z"
   },
   {
    "duration": 292,
    "start_time": "2022-03-29T12:14:47.726Z"
   },
   {
    "duration": 207,
    "start_time": "2022-03-29T12:16:06.285Z"
   },
   {
    "duration": 306,
    "start_time": "2022-03-29T12:16:21.476Z"
   },
   {
    "duration": 607,
    "start_time": "2022-03-29T12:17:01.457Z"
   },
   {
    "duration": 163,
    "start_time": "2022-03-29T12:17:24.711Z"
   },
   {
    "duration": 205,
    "start_time": "2022-03-29T12:17:37.939Z"
   },
   {
    "duration": 208,
    "start_time": "2022-03-29T12:18:07.130Z"
   },
   {
    "duration": 232,
    "start_time": "2022-03-29T12:18:40.159Z"
   },
   {
    "duration": 1408,
    "start_time": "2022-03-29T12:19:17.559Z"
   },
   {
    "duration": 35,
    "start_time": "2022-03-29T12:19:36.569Z"
   },
   {
    "duration": 41,
    "start_time": "2022-03-29T12:19:52.743Z"
   },
   {
    "duration": 46,
    "start_time": "2022-03-29T12:20:04.037Z"
   },
   {
    "duration": 242,
    "start_time": "2022-03-29T12:24:18.852Z"
   },
   {
    "duration": 224,
    "start_time": "2022-03-29T12:25:41.299Z"
   },
   {
    "duration": 122,
    "start_time": "2022-03-29T12:29:39.329Z"
   },
   {
    "duration": 5,
    "start_time": "2022-03-29T12:29:46.066Z"
   },
   {
    "duration": 1595,
    "start_time": "2022-03-29T12:30:30.126Z"
   },
   {
    "duration": 233,
    "start_time": "2022-03-29T12:30:33.837Z"
   },
   {
    "duration": 5,
    "start_time": "2022-03-29T12:30:36.093Z"
   },
   {
    "duration": 19,
    "start_time": "2022-03-29T12:30:40.334Z"
   },
   {
    "duration": 105,
    "start_time": "2022-03-29T12:31:18.482Z"
   },
   {
    "duration": 1469,
    "start_time": "2022-03-29T12:31:32.575Z"
   },
   {
    "duration": 228,
    "start_time": "2022-03-29T12:31:34.246Z"
   },
   {
    "duration": 5,
    "start_time": "2022-03-29T12:31:36.177Z"
   },
   {
    "duration": 17,
    "start_time": "2022-03-29T12:31:38.423Z"
   },
   {
    "duration": 18,
    "start_time": "2022-03-29T12:31:47.777Z"
   },
   {
    "duration": 62,
    "start_time": "2022-03-29T16:45:03.971Z"
   },
   {
    "duration": 1608,
    "start_time": "2022-03-29T16:45:38.984Z"
   },
   {
    "duration": 243,
    "start_time": "2022-03-29T16:45:49.225Z"
   },
   {
    "duration": 4,
    "start_time": "2022-03-29T16:45:51.342Z"
   },
   {
    "duration": 16,
    "start_time": "2022-03-29T16:45:53.389Z"
   },
   {
    "duration": 17,
    "start_time": "2022-03-29T16:45:55.114Z"
   },
   {
    "duration": 1251,
    "start_time": "2022-03-29T16:45:57.935Z"
   },
   {
    "duration": 7,
    "start_time": "2022-03-29T16:47:00.828Z"
   },
   {
    "duration": 53,
    "start_time": "2022-03-29T16:48:20.112Z"
   },
   {
    "duration": 5,
    "start_time": "2022-03-29T16:49:50.133Z"
   },
   {
    "duration": 9,
    "start_time": "2022-03-29T17:12:16.327Z"
   },
   {
    "duration": 47,
    "start_time": "2022-03-29T17:12:29.873Z"
   },
   {
    "duration": 236,
    "start_time": "2022-03-29T17:12:31.039Z"
   },
   {
    "duration": 4,
    "start_time": "2022-03-29T17:12:32.149Z"
   },
   {
    "duration": 18,
    "start_time": "2022-03-29T17:12:32.580Z"
   },
   {
    "duration": 18,
    "start_time": "2022-03-29T17:12:33.025Z"
   },
   {
    "duration": 45,
    "start_time": "2022-03-29T17:12:33.928Z"
   },
   {
    "duration": 7,
    "start_time": "2022-03-29T17:12:34.405Z"
   },
   {
    "duration": 6,
    "start_time": "2022-03-29T17:12:35.570Z"
   },
   {
    "duration": 1322,
    "start_time": "2022-03-29T17:12:55.949Z"
   },
   {
    "duration": 242,
    "start_time": "2022-03-29T17:12:57.273Z"
   },
   {
    "duration": 4,
    "start_time": "2022-03-29T17:12:58.574Z"
   },
   {
    "duration": 17,
    "start_time": "2022-03-29T17:12:59.120Z"
   },
   {
    "duration": 18,
    "start_time": "2022-03-29T17:12:59.609Z"
   },
   {
    "duration": 49,
    "start_time": "2022-03-29T17:13:00.535Z"
   },
   {
    "duration": 7,
    "start_time": "2022-03-29T17:13:00.997Z"
   },
   {
    "duration": 5,
    "start_time": "2022-03-29T17:13:01.936Z"
   },
   {
    "duration": 1402,
    "start_time": "2022-03-29T17:17:40.700Z"
   },
   {
    "duration": 241,
    "start_time": "2022-03-29T17:17:44.852Z"
   },
   {
    "duration": 5,
    "start_time": "2022-03-29T17:17:45.996Z"
   },
   {
    "duration": 17,
    "start_time": "2022-03-29T17:17:46.447Z"
   },
   {
    "duration": 18,
    "start_time": "2022-03-29T17:17:46.925Z"
   },
   {
    "duration": 43,
    "start_time": "2022-03-29T17:17:47.854Z"
   },
   {
    "duration": 4,
    "start_time": "2022-03-29T17:17:48.463Z"
   },
   {
    "duration": 9,
    "start_time": "2022-03-29T17:17:49.972Z"
   },
   {
    "duration": 44,
    "start_time": "2022-03-29T17:24:34.336Z"
   },
   {
    "duration": 6,
    "start_time": "2022-03-29T17:24:36.707Z"
   },
   {
    "duration": 46,
    "start_time": "2022-03-29T17:24:46.769Z"
   },
   {
    "duration": 114,
    "start_time": "2022-03-29T17:36:01.447Z"
   },
   {
    "duration": 48,
    "start_time": "2022-03-29T17:36:41.230Z"
   },
   {
    "duration": 1358,
    "start_time": "2022-03-29T17:36:54.669Z"
   },
   {
    "duration": 250,
    "start_time": "2022-03-29T17:36:56.029Z"
   },
   {
    "duration": 4,
    "start_time": "2022-03-29T17:36:56.360Z"
   },
   {
    "duration": 19,
    "start_time": "2022-03-29T17:36:56.740Z"
   },
   {
    "duration": 19,
    "start_time": "2022-03-29T17:36:57.089Z"
   },
   {
    "duration": 44,
    "start_time": "2022-03-29T17:36:57.547Z"
   },
   {
    "duration": 5,
    "start_time": "2022-03-29T17:38:11.182Z"
   },
   {
    "duration": 10,
    "start_time": "2022-03-29T17:38:26.397Z"
   },
   {
    "duration": 17,
    "start_time": "2022-03-29T17:38:27.338Z"
   },
   {
    "duration": 18,
    "start_time": "2022-03-29T17:42:16.455Z"
   },
   {
    "duration": 1763,
    "start_time": "2022-03-30T13:56:59.245Z"
   },
   {
    "duration": 229,
    "start_time": "2022-03-30T13:57:01.278Z"
   },
   {
    "duration": 4,
    "start_time": "2022-03-30T13:57:07.508Z"
   },
   {
    "duration": 16,
    "start_time": "2022-03-30T13:57:09.775Z"
   },
   {
    "duration": 18,
    "start_time": "2022-03-30T13:57:10.665Z"
   },
   {
    "duration": 42,
    "start_time": "2022-03-30T13:57:12.497Z"
   },
   {
    "duration": 5,
    "start_time": "2022-03-30T13:57:17.183Z"
   },
   {
    "duration": 8,
    "start_time": "2022-03-30T13:57:33.225Z"
   },
   {
    "duration": 19,
    "start_time": "2022-03-30T13:57:52.700Z"
   },
   {
    "duration": 2149,
    "start_time": "2022-03-30T17:11:09.361Z"
   },
   {
    "duration": 382,
    "start_time": "2022-03-30T17:11:11.514Z"
   },
   {
    "duration": 7,
    "start_time": "2022-03-30T17:11:11.899Z"
   },
   {
    "duration": 29,
    "start_time": "2022-03-30T17:11:14.118Z"
   },
   {
    "duration": 27,
    "start_time": "2022-03-30T17:11:14.560Z"
   },
   {
    "duration": 61,
    "start_time": "2022-03-30T17:11:15.479Z"
   },
   {
    "duration": 7,
    "start_time": "2022-03-30T17:11:15.884Z"
   },
   {
    "duration": 15,
    "start_time": "2022-03-30T17:11:16.957Z"
   },
   {
    "duration": 28,
    "start_time": "2022-03-30T17:11:18.647Z"
   },
   {
    "duration": 155,
    "start_time": "2022-03-30T17:14:52.002Z"
   },
   {
    "duration": 2025,
    "start_time": "2022-03-30T17:16:21.755Z"
   },
   {
    "duration": 636,
    "start_time": "2022-03-30T17:16:23.784Z"
   },
   {
    "duration": 8,
    "start_time": "2022-03-30T17:16:25.895Z"
   },
   {
    "duration": 43,
    "start_time": "2022-03-30T17:16:26.397Z"
   },
   {
    "duration": 40,
    "start_time": "2022-03-30T17:16:26.987Z"
   },
   {
    "duration": 84,
    "start_time": "2022-03-30T17:16:27.895Z"
   },
   {
    "duration": 9,
    "start_time": "2022-03-30T17:16:28.284Z"
   },
   {
    "duration": 19,
    "start_time": "2022-03-30T17:16:29.058Z"
   },
   {
    "duration": 31,
    "start_time": "2022-03-30T17:16:30.414Z"
   },
   {
    "duration": 161,
    "start_time": "2022-03-30T17:16:31.417Z"
   },
   {
    "duration": 1633,
    "start_time": "2022-03-31T11:53:55.049Z"
   },
   {
    "duration": 212,
    "start_time": "2022-03-31T11:53:56.684Z"
   },
   {
    "duration": 5,
    "start_time": "2022-03-31T11:53:56.898Z"
   },
   {
    "duration": 30,
    "start_time": "2022-03-31T11:53:56.906Z"
   },
   {
    "duration": 18,
    "start_time": "2022-03-31T11:53:56.938Z"
   },
   {
    "duration": 44,
    "start_time": "2022-03-31T11:53:57.450Z"
   },
   {
    "duration": 5,
    "start_time": "2022-03-31T11:53:57.933Z"
   },
   {
    "duration": 9,
    "start_time": "2022-03-31T11:53:59.208Z"
   },
   {
    "duration": 19,
    "start_time": "2022-03-31T11:54:01.905Z"
   },
   {
    "duration": 100,
    "start_time": "2022-03-31T11:55:35.051Z"
   },
   {
    "duration": 1442,
    "start_time": "2022-03-31T11:56:19.859Z"
   },
   {
    "duration": 217,
    "start_time": "2022-03-31T11:56:21.303Z"
   },
   {
    "duration": 12,
    "start_time": "2022-03-31T11:56:21.521Z"
   },
   {
    "duration": 16,
    "start_time": "2022-03-31T11:56:21.603Z"
   },
   {
    "duration": 17,
    "start_time": "2022-03-31T11:56:21.887Z"
   },
   {
    "duration": 42,
    "start_time": "2022-03-31T11:56:22.491Z"
   },
   {
    "duration": 4,
    "start_time": "2022-03-31T11:56:22.773Z"
   },
   {
    "duration": 10,
    "start_time": "2022-03-31T11:56:23.413Z"
   },
   {
    "duration": 19,
    "start_time": "2022-03-31T11:56:24.518Z"
   },
   {
    "duration": 119,
    "start_time": "2022-03-31T11:56:24.919Z"
   },
   {
    "duration": 6672,
    "start_time": "2022-03-31T11:56:26.315Z"
   },
   {
    "duration": 115,
    "start_time": "2022-03-31T11:57:08.031Z"
   },
   {
    "duration": 1414,
    "start_time": "2022-03-31T11:58:04.975Z"
   },
   {
    "duration": 222,
    "start_time": "2022-03-31T11:58:06.391Z"
   },
   {
    "duration": 4,
    "start_time": "2022-03-31T11:58:06.615Z"
   },
   {
    "duration": 26,
    "start_time": "2022-03-31T11:58:06.621Z"
   },
   {
    "duration": 22,
    "start_time": "2022-03-31T11:58:06.649Z"
   },
   {
    "duration": 42,
    "start_time": "2022-03-31T11:58:06.770Z"
   },
   {
    "duration": 5,
    "start_time": "2022-03-31T11:58:07.169Z"
   },
   {
    "duration": 10,
    "start_time": "2022-03-31T11:58:08.432Z"
   },
   {
    "duration": 18,
    "start_time": "2022-03-31T11:58:38.999Z"
   },
   {
    "duration": 82,
    "start_time": "2022-03-31T11:58:52.659Z"
   },
   {
    "duration": 115,
    "start_time": "2022-03-31T11:58:55.412Z"
   },
   {
    "duration": 45,
    "start_time": "2022-03-31T12:18:57.520Z"
   },
   {
    "duration": 211,
    "start_time": "2022-03-31T12:18:57.933Z"
   },
   {
    "duration": 5,
    "start_time": "2022-03-31T12:18:58.498Z"
   },
   {
    "duration": 17,
    "start_time": "2022-03-31T12:18:58.749Z"
   },
   {
    "duration": 18,
    "start_time": "2022-03-31T12:18:59.016Z"
   },
   {
    "duration": 42,
    "start_time": "2022-03-31T12:18:59.458Z"
   },
   {
    "duration": 5,
    "start_time": "2022-03-31T12:18:59.668Z"
   },
   {
    "duration": 9,
    "start_time": "2022-03-31T12:19:00.051Z"
   },
   {
    "duration": 31,
    "start_time": "2022-03-31T12:19:00.959Z"
   },
   {
    "duration": 25,
    "start_time": "2022-03-31T12:20:06.179Z"
   },
   {
    "duration": 82,
    "start_time": "2022-03-31T12:20:49.552Z"
   },
   {
    "duration": 1078,
    "start_time": "2022-03-31T12:20:50.666Z"
   },
   {
    "duration": 3102,
    "start_time": "2022-03-31T12:21:56.171Z"
   },
   {
    "duration": 5152,
    "start_time": "2022-03-31T12:22:04.674Z"
   },
   {
    "duration": 14,
    "start_time": "2022-03-31T12:23:41.485Z"
   },
   {
    "duration": 1591,
    "start_time": "2022-03-31T12:25:37.886Z"
   },
   {
    "duration": 10,
    "start_time": "2022-03-31T12:25:39.594Z"
   },
   {
    "duration": 13,
    "start_time": "2022-03-31T12:25:40.349Z"
   },
   {
    "duration": 9,
    "start_time": "2022-03-31T12:25:40.589Z"
   },
   {
    "duration": 8,
    "start_time": "2022-03-31T12:25:40.863Z"
   },
   {
    "duration": 10,
    "start_time": "2022-03-31T12:25:41.380Z"
   },
   {
    "duration": 10,
    "start_time": "2022-03-31T12:25:41.638Z"
   },
   {
    "duration": 9,
    "start_time": "2022-03-31T12:25:42.184Z"
   },
   {
    "duration": 13,
    "start_time": "2022-03-31T12:25:43.343Z"
   },
   {
    "duration": 10,
    "start_time": "2022-03-31T12:25:43.701Z"
   },
   {
    "duration": 11,
    "start_time": "2022-03-31T12:25:44.715Z"
   },
   {
    "duration": 1429,
    "start_time": "2022-03-31T12:26:33.356Z"
   },
   {
    "duration": 218,
    "start_time": "2022-03-31T12:26:37.271Z"
   },
   {
    "duration": 4,
    "start_time": "2022-03-31T12:26:38.866Z"
   },
   {
    "duration": 19,
    "start_time": "2022-03-31T12:26:39.887Z"
   },
   {
    "duration": 24,
    "start_time": "2022-03-31T12:26:40.674Z"
   },
   {
    "duration": 46,
    "start_time": "2022-03-31T12:26:41.769Z"
   },
   {
    "duration": 6,
    "start_time": "2022-03-31T12:26:42.415Z"
   },
   {
    "duration": 9,
    "start_time": "2022-03-31T12:26:43.433Z"
   },
   {
    "duration": 30,
    "start_time": "2022-03-31T12:26:45.110Z"
   },
   {
    "duration": 78,
    "start_time": "2022-03-31T12:26:46.461Z"
   },
   {
    "duration": 107,
    "start_time": "2022-03-31T12:26:47.553Z"
   },
   {
    "duration": 1448,
    "start_time": "2022-03-31T12:28:03.097Z"
   },
   {
    "duration": 51,
    "start_time": "2022-03-31T12:28:51.010Z"
   },
   {
    "duration": 227,
    "start_time": "2022-03-31T12:28:55.351Z"
   },
   {
    "duration": 5,
    "start_time": "2022-03-31T12:28:55.580Z"
   },
   {
    "duration": 18,
    "start_time": "2022-03-31T12:28:55.717Z"
   },
   {
    "duration": 19,
    "start_time": "2022-03-31T12:28:56.051Z"
   },
   {
    "duration": 43,
    "start_time": "2022-03-31T12:28:56.585Z"
   },
   {
    "duration": 5,
    "start_time": "2022-03-31T12:28:56.817Z"
   },
   {
    "duration": 9,
    "start_time": "2022-03-31T12:28:57.180Z"
   },
   {
    "duration": 24,
    "start_time": "2022-03-31T12:28:57.949Z"
   },
   {
    "duration": 95,
    "start_time": "2022-03-31T12:28:58.247Z"
   },
   {
    "duration": 3181,
    "start_time": "2022-03-31T12:28:58.593Z"
   },
   {
    "duration": 14848,
    "start_time": "2022-03-31T12:29:37.646Z"
   },
   {
    "duration": 2203,
    "start_time": "2022-03-31T14:52:05.890Z"
   },
   {
    "duration": 338,
    "start_time": "2022-03-31T14:52:08.875Z"
   },
   {
    "duration": 6,
    "start_time": "2022-03-31T14:52:13.654Z"
   },
   {
    "duration": 26,
    "start_time": "2022-03-31T14:52:25.715Z"
   },
   {
    "duration": 26,
    "start_time": "2022-03-31T14:52:26.927Z"
   },
   {
    "duration": 60,
    "start_time": "2022-03-31T14:52:35.736Z"
   },
   {
    "duration": 6,
    "start_time": "2022-03-31T14:52:57.494Z"
   },
   {
    "duration": 12,
    "start_time": "2022-03-31T14:53:11.136Z"
   },
   {
    "duration": 34,
    "start_time": "2022-03-31T14:53:18.800Z"
   },
   {
    "duration": 24409,
    "start_time": "2022-03-31T14:54:20.210Z"
   },
   {
    "duration": 122,
    "start_time": "2022-03-31T14:54:57.466Z"
   },
   {
    "duration": 1856,
    "start_time": "2022-03-31T14:56:05.423Z"
   },
   {
    "duration": 364,
    "start_time": "2022-03-31T14:56:07.282Z"
   },
   {
    "duration": 7,
    "start_time": "2022-03-31T14:56:07.648Z"
   },
   {
    "duration": 45,
    "start_time": "2022-03-31T14:56:07.658Z"
   },
   {
    "duration": 47,
    "start_time": "2022-03-31T14:56:07.706Z"
   },
   {
    "duration": 59,
    "start_time": "2022-03-31T14:56:08.925Z"
   },
   {
    "duration": 7,
    "start_time": "2022-03-31T14:56:09.379Z"
   },
   {
    "duration": 15,
    "start_time": "2022-03-31T14:56:14.337Z"
   },
   {
    "duration": 39,
    "start_time": "2022-03-31T14:56:16.524Z"
   },
   {
    "duration": 184,
    "start_time": "2022-03-31T14:56:18.398Z"
   },
   {
    "duration": 24347,
    "start_time": "2022-03-31T14:56:20.345Z"
   },
   {
    "duration": 68,
    "start_time": "2022-03-31T15:00:54.148Z"
   },
   {
    "duration": 1795,
    "start_time": "2022-03-31T15:04:25.003Z"
   },
   {
    "duration": 351,
    "start_time": "2022-03-31T15:04:26.800Z"
   },
   {
    "duration": 6,
    "start_time": "2022-03-31T15:04:27.756Z"
   },
   {
    "duration": 26,
    "start_time": "2022-03-31T15:04:28.269Z"
   },
   {
    "duration": 26,
    "start_time": "2022-03-31T15:04:28.759Z"
   },
   {
    "duration": 71,
    "start_time": "2022-03-31T15:04:30.628Z"
   },
   {
    "duration": 7,
    "start_time": "2022-03-31T15:04:32.417Z"
   },
   {
    "duration": 14,
    "start_time": "2022-03-31T15:04:34.141Z"
   },
   {
    "duration": 156,
    "start_time": "2022-03-31T15:04:36.890Z"
   },
   {
    "duration": 1835,
    "start_time": "2022-03-31T15:05:45.428Z"
   },
   {
    "duration": 343,
    "start_time": "2022-03-31T15:05:47.266Z"
   },
   {
    "duration": 6,
    "start_time": "2022-03-31T15:05:48.700Z"
   },
   {
    "duration": 27,
    "start_time": "2022-03-31T15:05:49.150Z"
   },
   {
    "duration": 26,
    "start_time": "2022-03-31T15:05:49.640Z"
   },
   {
    "duration": 71,
    "start_time": "2022-03-31T15:05:50.506Z"
   },
   {
    "duration": 7,
    "start_time": "2022-03-31T15:05:51.022Z"
   },
   {
    "duration": 12,
    "start_time": "2022-03-31T15:05:52.128Z"
   },
   {
    "duration": 164,
    "start_time": "2022-03-31T15:05:53.936Z"
   },
   {
    "duration": 1950,
    "start_time": "2022-03-31T15:12:55.007Z"
   },
   {
    "duration": 345,
    "start_time": "2022-03-31T15:12:56.960Z"
   },
   {
    "duration": 7,
    "start_time": "2022-03-31T15:12:57.307Z"
   },
   {
    "duration": 27,
    "start_time": "2022-03-31T15:12:57.650Z"
   },
   {
    "duration": 27,
    "start_time": "2022-03-31T15:12:58.011Z"
   },
   {
    "duration": 86,
    "start_time": "2022-03-31T15:12:58.579Z"
   },
   {
    "duration": 8,
    "start_time": "2022-03-31T15:12:58.821Z"
   },
   {
    "duration": 13,
    "start_time": "2022-03-31T15:13:02.260Z"
   },
   {
    "duration": 32,
    "start_time": "2022-03-31T15:13:11.341Z"
   },
   {
    "duration": 93,
    "start_time": "2022-03-31T15:13:14.892Z"
   },
   {
    "duration": 24231,
    "start_time": "2022-03-31T15:13:17.112Z"
   },
   {
    "duration": 1834,
    "start_time": "2022-03-31T15:15:08.172Z"
   },
   {
    "duration": 353,
    "start_time": "2022-03-31T15:15:10.009Z"
   },
   {
    "duration": 6,
    "start_time": "2022-03-31T15:15:11.651Z"
   },
   {
    "duration": 26,
    "start_time": "2022-03-31T15:15:12.842Z"
   },
   {
    "duration": 25,
    "start_time": "2022-03-31T15:15:13.491Z"
   },
   {
    "duration": 92,
    "start_time": "2022-03-31T15:15:14.922Z"
   },
   {
    "duration": 7,
    "start_time": "2022-03-31T15:15:16.405Z"
   },
   {
    "duration": 13,
    "start_time": "2022-03-31T15:15:18.588Z"
   },
   {
    "duration": 33,
    "start_time": "2022-03-31T15:15:20.203Z"
   },
   {
    "duration": 122,
    "start_time": "2022-03-31T15:15:21.069Z"
   },
   {
    "duration": 24215,
    "start_time": "2022-03-31T15:15:22.743Z"
   },
   {
    "duration": 91,
    "start_time": "2022-03-31T15:17:35.167Z"
   },
   {
    "duration": 8,
    "start_time": "2022-03-31T15:17:36.495Z"
   },
   {
    "duration": 1948,
    "start_time": "2022-03-31T15:17:49.076Z"
   },
   {
    "duration": 349,
    "start_time": "2022-03-31T15:17:51.027Z"
   },
   {
    "duration": 6,
    "start_time": "2022-03-31T15:17:51.378Z"
   },
   {
    "duration": 26,
    "start_time": "2022-03-31T15:17:51.387Z"
   },
   {
    "duration": 28,
    "start_time": "2022-03-31T15:17:51.415Z"
   },
   {
    "duration": 125,
    "start_time": "2022-03-31T15:17:51.445Z"
   },
   {
    "duration": 14,
    "start_time": "2022-03-31T15:17:51.572Z"
   },
   {
    "duration": 13,
    "start_time": "2022-03-31T15:17:51.587Z"
   },
   {
    "duration": 31,
    "start_time": "2022-03-31T15:17:54.073Z"
   },
   {
    "duration": 70,
    "start_time": "2022-03-31T15:17:54.617Z"
   },
   {
    "duration": 24247,
    "start_time": "2022-03-31T15:17:58.268Z"
   },
   {
    "duration": 75,
    "start_time": "2022-03-31T15:20:22.433Z"
   },
   {
    "duration": 24687,
    "start_time": "2022-03-31T15:20:24.448Z"
   },
   {
    "duration": 38054,
    "start_time": "2022-03-31T15:21:07.120Z"
   },
   {
    "duration": 34271,
    "start_time": "2022-03-31T15:23:16.803Z"
   },
   {
    "duration": 34162,
    "start_time": "2022-03-31T15:24:18.930Z"
   },
   {
    "duration": 34076,
    "start_time": "2022-03-31T15:25:45.712Z"
   },
   {
    "duration": 3621,
    "start_time": "2022-03-31T15:26:26.710Z"
   },
   {
    "duration": 5567,
    "start_time": "2022-03-31T15:26:51.568Z"
   },
   {
    "duration": 4680,
    "start_time": "2022-03-31T15:27:22.813Z"
   },
   {
    "duration": 3703,
    "start_time": "2022-03-31T15:27:36.135Z"
   },
   {
    "duration": 3984,
    "start_time": "2022-03-31T15:27:44.347Z"
   },
   {
    "duration": 4778,
    "start_time": "2022-03-31T15:27:51.579Z"
   },
   {
    "duration": 4735,
    "start_time": "2022-03-31T15:28:05.585Z"
   },
   {
    "duration": 6875,
    "start_time": "2022-03-31T15:30:02.144Z"
   },
   {
    "duration": 1772,
    "start_time": "2022-03-31T18:53:11.071Z"
   },
   {
    "duration": 219,
    "start_time": "2022-03-31T18:53:12.845Z"
   },
   {
    "duration": 5,
    "start_time": "2022-03-31T18:53:14.810Z"
   },
   {
    "duration": 15,
    "start_time": "2022-03-31T18:53:15.105Z"
   },
   {
    "duration": 17,
    "start_time": "2022-03-31T18:53:15.372Z"
   },
   {
    "duration": 72,
    "start_time": "2022-03-31T18:53:15.893Z"
   },
   {
    "duration": 5,
    "start_time": "2022-03-31T18:53:16.155Z"
   },
   {
    "duration": 10,
    "start_time": "2022-03-31T18:53:17.137Z"
   },
   {
    "duration": 22,
    "start_time": "2022-03-31T18:53:18.776Z"
   },
   {
    "duration": 44,
    "start_time": "2022-03-31T18:53:19.747Z"
   },
   {
    "duration": 2979,
    "start_time": "2022-03-31T18:53:20.377Z"
   },
   {
    "duration": 3103,
    "start_time": "2022-03-31T18:59:29.221Z"
   },
   {
    "duration": 3162,
    "start_time": "2022-03-31T19:00:12.142Z"
   },
   {
    "duration": 1851,
    "start_time": "2022-03-31T19:35:29.423Z"
   },
   {
    "duration": 219,
    "start_time": "2022-03-31T19:35:31.276Z"
   },
   {
    "duration": 5,
    "start_time": "2022-03-31T19:37:28.263Z"
   },
   {
    "duration": 17,
    "start_time": "2022-03-31T19:37:29.415Z"
   },
   {
    "duration": 16,
    "start_time": "2022-03-31T19:37:30.270Z"
   },
   {
    "duration": 60,
    "start_time": "2022-03-31T19:37:32.560Z"
   },
   {
    "duration": 66,
    "start_time": "2022-03-31T19:41:58.548Z"
   },
   {
    "duration": 5,
    "start_time": "2022-03-31T19:42:00.700Z"
   },
   {
    "duration": 10,
    "start_time": "2022-03-31T19:42:02.214Z"
   },
   {
    "duration": 23,
    "start_time": "2022-03-31T19:42:08.151Z"
   },
   {
    "duration": 80,
    "start_time": "2022-03-31T19:42:09.321Z"
   },
   {
    "duration": 2764,
    "start_time": "2022-03-31T19:42:12.366Z"
   },
   {
    "duration": 3027,
    "start_time": "2022-03-31T19:43:29.089Z"
   },
   {
    "duration": 2886,
    "start_time": "2022-03-31T19:45:30.215Z"
   },
   {
    "duration": 4382,
    "start_time": "2022-03-31T19:45:33.102Z"
   },
   {
    "duration": 4346,
    "start_time": "2022-03-31T20:01:43.039Z"
   },
   {
    "duration": 102,
    "start_time": "2022-03-31T20:03:39.608Z"
   },
   {
    "duration": 206,
    "start_time": "2022-03-31T20:05:05.178Z"
   },
   {
    "duration": 67,
    "start_time": "2022-04-01T07:22:45.467Z"
   },
   {
    "duration": 2432,
    "start_time": "2022-04-01T07:22:57.487Z"
   },
   {
    "duration": 153,
    "start_time": "2022-04-01T07:23:00.727Z"
   },
   {
    "duration": 148,
    "start_time": "2022-04-01T07:24:25.085Z"
   },
   {
    "duration": 2126,
    "start_time": "2022-04-01T07:24:35.827Z"
   },
   {
    "duration": 158,
    "start_time": "2022-04-01T07:24:40.272Z"
   },
   {
    "duration": 2066,
    "start_time": "2022-04-01T07:26:34.154Z"
   },
   {
    "duration": 78652,
    "start_time": "2022-04-01T07:26:39.756Z"
   },
   {
    "duration": 2653,
    "start_time": "2022-04-01T07:29:23.335Z"
   },
   {
    "duration": 3,
    "start_time": "2022-04-01T07:29:31.247Z"
   },
   {
    "duration": 346,
    "start_time": "2022-04-01T07:29:34.051Z"
   },
   {
    "duration": 6,
    "start_time": "2022-04-01T07:29:37.209Z"
   },
   {
    "duration": 37598,
    "start_time": "2022-04-01T07:29:38.966Z"
   },
   {
    "duration": 41120,
    "start_time": "2022-04-01T07:34:04.394Z"
   },
   {
    "duration": 21154,
    "start_time": "2022-04-01T07:38:36.261Z"
   },
   {
    "duration": 21602,
    "start_time": "2022-04-01T07:57:04.131Z"
   },
   {
    "duration": 1606,
    "start_time": "2022-04-01T10:21:29.591Z"
   },
   {
    "duration": 258,
    "start_time": "2022-04-01T10:22:44.779Z"
   },
   {
    "duration": 327,
    "start_time": "2022-04-01T10:26:52.314Z"
   },
   {
    "duration": 237,
    "start_time": "2022-04-01T10:27:06.417Z"
   },
   {
    "duration": 290,
    "start_time": "2022-04-01T10:28:36.446Z"
   },
   {
    "duration": 5,
    "start_time": "2022-04-01T10:29:39.162Z"
   },
   {
    "duration": 15097,
    "start_time": "2022-04-01T10:30:16.188Z"
   },
   {
    "duration": 19,
    "start_time": "2022-04-01T10:34:37.045Z"
   },
   {
    "duration": 2393,
    "start_time": "2022-04-01T12:39:00.774Z"
   },
   {
    "duration": 393,
    "start_time": "2022-04-01T12:39:29.237Z"
   },
   {
    "duration": 6,
    "start_time": "2022-04-01T12:39:58.897Z"
   },
   {
    "duration": 24545,
    "start_time": "2022-04-01T12:40:15.625Z"
   },
   {
    "duration": 27,
    "start_time": "2022-04-01T12:43:05.706Z"
   },
   {
    "duration": 135,
    "start_time": "2022-04-01T12:47:21.673Z"
   },
   {
    "duration": 7,
    "start_time": "2022-04-01T12:47:25.595Z"
   },
   {
    "duration": 127,
    "start_time": "2022-04-01T12:48:15.367Z"
   },
   {
    "duration": 8,
    "start_time": "2022-04-01T12:49:05.446Z"
   },
   {
    "duration": 15,
    "start_time": "2022-04-01T12:49:48.248Z"
   },
   {
    "duration": 16,
    "start_time": "2022-04-01T12:50:39.543Z"
   },
   {
    "duration": 9,
    "start_time": "2022-04-01T12:50:49.138Z"
   },
   {
    "duration": 41,
    "start_time": "2022-04-01T12:51:10.452Z"
   },
   {
    "duration": 85,
    "start_time": "2022-04-01T12:51:12.315Z"
   },
   {
    "duration": 6893,
    "start_time": "2022-04-01T12:51:16.043Z"
   },
   {
    "duration": 9103,
    "start_time": "2022-04-01T12:51:30.691Z"
   },
   {
    "duration": 350,
    "start_time": "2022-04-01T12:52:16.469Z"
   },
   {
    "duration": 228,
    "start_time": "2022-04-01T13:02:50.518Z"
   },
   {
    "duration": 2287,
    "start_time": "2022-04-01T13:03:41.053Z"
   },
   {
    "duration": 589,
    "start_time": "2022-04-01T13:03:43.343Z"
   },
   {
    "duration": 11,
    "start_time": "2022-04-01T13:03:43.935Z"
   },
   {
    "duration": 36,
    "start_time": "2022-04-01T13:03:51.938Z"
   },
   {
    "duration": 133,
    "start_time": "2022-04-01T13:03:54.783Z"
   },
   {
    "duration": 8,
    "start_time": "2022-04-01T13:03:57.583Z"
   },
   {
    "duration": 8,
    "start_time": "2022-04-01T13:03:58.982Z"
   },
   {
    "duration": 45,
    "start_time": "2022-04-01T13:04:00.971Z"
   },
   {
    "duration": 351,
    "start_time": "2022-04-01T13:04:02.079Z"
   },
   {
    "duration": 131,
    "start_time": "2022-04-01T13:04:32.312Z"
   },
   {
    "duration": 93,
    "start_time": "2022-04-01T13:16:43.986Z"
   },
   {
    "duration": 119,
    "start_time": "2022-04-01T13:16:54.922Z"
   },
   {
    "duration": 259,
    "start_time": "2022-04-01T13:18:57.663Z"
   },
   {
    "duration": 295,
    "start_time": "2022-04-01T13:19:28.103Z"
   },
   {
    "duration": 296,
    "start_time": "2022-04-01T13:19:41.741Z"
   },
   {
    "duration": 346,
    "start_time": "2022-04-01T13:22:58.857Z"
   },
   {
    "duration": 66,
    "start_time": "2022-04-01T13:23:30.116Z"
   },
   {
    "duration": 363,
    "start_time": "2022-04-01T13:23:31.742Z"
   },
   {
    "duration": 6,
    "start_time": "2022-04-01T13:23:32.836Z"
   },
   {
    "duration": 2151,
    "start_time": "2022-04-01T13:23:49.315Z"
   },
   {
    "duration": 388,
    "start_time": "2022-04-01T13:23:51.727Z"
   },
   {
    "duration": 6,
    "start_time": "2022-04-01T13:23:53.565Z"
   },
   {
    "duration": 24120,
    "start_time": "2022-04-01T13:23:54.275Z"
   },
   {
    "duration": 28,
    "start_time": "2022-04-01T13:24:38.934Z"
   },
   {
    "duration": 102,
    "start_time": "2022-04-01T13:24:40.915Z"
   },
   {
    "duration": 7,
    "start_time": "2022-04-01T13:24:42.344Z"
   },
   {
    "duration": 11,
    "start_time": "2022-04-01T13:24:43.375Z"
   },
   {
    "duration": 39,
    "start_time": "2022-04-01T13:24:44.769Z"
   },
   {
    "duration": 305,
    "start_time": "2022-04-01T13:24:45.644Z"
   },
   {
    "duration": 247,
    "start_time": "2022-04-01T13:27:21.908Z"
   },
   {
    "duration": 248,
    "start_time": "2022-04-01T13:28:30.204Z"
   },
   {
    "duration": 314,
    "start_time": "2022-04-01T13:29:08.028Z"
   },
   {
    "duration": 5168,
    "start_time": "2022-04-01T13:31:33.241Z"
   },
   {
    "duration": 5206,
    "start_time": "2022-04-01T13:33:20.746Z"
   },
   {
    "duration": 1798,
    "start_time": "2022-04-02T17:10:12.561Z"
   },
   {
    "duration": 312,
    "start_time": "2022-04-02T17:10:14.362Z"
   },
   {
    "duration": 5,
    "start_time": "2022-04-02T17:10:16.665Z"
   },
   {
    "duration": 14590,
    "start_time": "2022-04-02T17:10:17.378Z"
   },
   {
    "duration": 18,
    "start_time": "2022-04-02T17:10:31.970Z"
   },
   {
    "duration": 62,
    "start_time": "2022-04-02T17:10:36.533Z"
   },
   {
    "duration": 5,
    "start_time": "2022-04-02T17:10:38.266Z"
   },
   {
    "duration": 5,
    "start_time": "2022-04-02T17:10:39.342Z"
   },
   {
    "duration": 20,
    "start_time": "2022-04-02T17:10:41.596Z"
   },
   {
    "duration": 248,
    "start_time": "2022-04-02T17:10:43.758Z"
   },
   {
    "duration": 269,
    "start_time": "2022-04-02T17:11:17.445Z"
   },
   {
    "duration": 252,
    "start_time": "2022-04-02T17:14:19.488Z"
   },
   {
    "duration": 2872,
    "start_time": "2022-04-02T17:25:38.043Z"
   },
   {
    "duration": 4358,
    "start_time": "2022-04-02T17:27:32.667Z"
   },
   {
    "duration": 258,
    "start_time": "2022-04-02T17:29:17.179Z"
   },
   {
    "duration": 1432,
    "start_time": "2022-04-02T17:29:45.209Z"
   },
   {
    "duration": 206,
    "start_time": "2022-04-02T17:29:48.648Z"
   },
   {
    "duration": 5,
    "start_time": "2022-04-02T17:29:50.423Z"
   },
   {
    "duration": 13074,
    "start_time": "2022-04-02T17:30:03.161Z"
   },
   {
    "duration": 18,
    "start_time": "2022-04-02T17:30:31.064Z"
   },
   {
    "duration": 62,
    "start_time": "2022-04-02T17:30:43.846Z"
   },
   {
    "duration": 5,
    "start_time": "2022-04-02T17:30:48.800Z"
   },
   {
    "duration": 6,
    "start_time": "2022-04-02T17:30:51.477Z"
   },
   {
    "duration": 20,
    "start_time": "2022-04-02T17:31:41.461Z"
   },
   {
    "duration": 293,
    "start_time": "2022-04-02T17:31:48.339Z"
   },
   {
    "duration": 236,
    "start_time": "2022-04-02T17:31:49.700Z"
   },
   {
    "duration": 2795,
    "start_time": "2022-04-02T17:31:52.483Z"
   },
   {
    "duration": 4245,
    "start_time": "2022-04-02T17:31:55.280Z"
   },
   {
    "duration": 189,
    "start_time": "2022-04-02T17:33:44.099Z"
   },
   {
    "duration": 184,
    "start_time": "2022-04-02T17:36:48.347Z"
   },
   {
    "duration": 191,
    "start_time": "2022-04-02T17:37:41.123Z"
   },
   {
    "duration": 1602,
    "start_time": "2022-04-02T17:41:30.328Z"
   },
   {
    "duration": 42,
    "start_time": "2022-04-02T17:44:44.018Z"
   },
   {
    "duration": 210,
    "start_time": "2022-04-02T17:45:37.326Z"
   },
   {
    "duration": 4,
    "start_time": "2022-04-02T17:45:59.659Z"
   },
   {
    "duration": 13456,
    "start_time": "2022-04-02T17:46:23.203Z"
   },
   {
    "duration": 10,
    "start_time": "2022-04-02T17:47:26.891Z"
   },
   {
    "duration": 67,
    "start_time": "2022-04-02T17:53:50.440Z"
   },
   {
    "duration": 59,
    "start_time": "2022-04-02T17:59:05.675Z"
   },
   {
    "duration": 61,
    "start_time": "2022-04-02T17:59:12.818Z"
   },
   {
    "duration": 117,
    "start_time": "2022-04-02T17:59:56.071Z"
   },
   {
    "duration": 21,
    "start_time": "2022-04-02T18:00:33.336Z"
   },
   {
    "duration": 245,
    "start_time": "2022-04-02T18:00:39.891Z"
   },
   {
    "duration": 278,
    "start_time": "2022-04-02T18:00:40.954Z"
   },
   {
    "duration": 2833,
    "start_time": "2022-04-02T18:00:43.084Z"
   },
   {
    "duration": 4281,
    "start_time": "2022-04-02T18:00:47.124Z"
   },
   {
    "duration": 192,
    "start_time": "2022-04-02T18:02:53.013Z"
   },
   {
    "duration": 1407,
    "start_time": "2022-04-02T18:04:06.504Z"
   },
   {
    "duration": 215,
    "start_time": "2022-04-02T18:04:32.948Z"
   },
   {
    "duration": 5,
    "start_time": "2022-04-02T18:04:45.287Z"
   },
   {
    "duration": 13625,
    "start_time": "2022-04-02T18:05:06.374Z"
   },
   {
    "duration": 10,
    "start_time": "2022-04-02T18:05:31.518Z"
   },
   {
    "duration": 65,
    "start_time": "2022-04-02T18:05:34.297Z"
   },
   {
    "duration": 6,
    "start_time": "2022-04-02T18:05:43.034Z"
   },
   {
    "duration": 28,
    "start_time": "2022-04-02T18:05:46.561Z"
   },
   {
    "duration": 350,
    "start_time": "2022-04-02T18:05:48.449Z"
   },
   {
    "duration": 222,
    "start_time": "2022-04-02T18:05:54.609Z"
   },
   {
    "duration": 2907,
    "start_time": "2022-04-02T18:05:56.069Z"
   },
   {
    "duration": 4270,
    "start_time": "2022-04-02T18:05:58.978Z"
   },
   {
    "duration": 187,
    "start_time": "2022-04-02T18:06:06.462Z"
   },
   {
    "duration": 4369,
    "start_time": "2022-04-03T11:13:21.541Z"
   },
   {
    "duration": 7,
    "start_time": "2022-04-03T11:13:58.886Z"
   },
   {
    "duration": 46,
    "start_time": "2022-04-03T11:14:18.177Z"
   },
   {
    "duration": 261,
    "start_time": "2022-04-03T11:14:18.225Z"
   },
   {
    "duration": 4,
    "start_time": "2022-04-03T11:14:18.488Z"
   },
   {
    "duration": 14664,
    "start_time": "2022-04-03T11:14:18.495Z"
   },
   {
    "duration": 11,
    "start_time": "2022-04-03T11:14:33.160Z"
   },
   {
    "duration": 89,
    "start_time": "2022-04-03T11:14:33.173Z"
   },
   {
    "duration": 5,
    "start_time": "2022-04-03T11:14:33.263Z"
   },
   {
    "duration": 20,
    "start_time": "2022-04-03T11:14:33.270Z"
   },
   {
    "duration": 335,
    "start_time": "2022-04-03T11:14:33.292Z"
   },
   {
    "duration": 280,
    "start_time": "2022-04-03T11:14:33.629Z"
   },
   {
    "duration": 3047,
    "start_time": "2022-04-03T11:14:33.910Z"
   },
   {
    "duration": 4720,
    "start_time": "2022-04-03T11:14:36.959Z"
   },
   {
    "duration": 213,
    "start_time": "2022-04-03T11:14:41.681Z"
   },
   {
    "duration": 42,
    "start_time": "2022-04-03T11:23:00.447Z"
   },
   {
    "duration": 225,
    "start_time": "2022-04-03T11:23:00.490Z"
   },
   {
    "duration": 5,
    "start_time": "2022-04-03T11:23:00.716Z"
   },
   {
    "duration": 14851,
    "start_time": "2022-04-03T11:23:00.723Z"
   },
   {
    "duration": 12,
    "start_time": "2022-04-03T11:23:15.576Z"
   },
   {
    "duration": 65,
    "start_time": "2022-04-03T11:23:15.609Z"
   },
   {
    "duration": 4,
    "start_time": "2022-04-03T11:24:59.700Z"
   },
   {
    "duration": 113,
    "start_time": "2022-04-03T11:25:41.834Z"
   },
   {
    "duration": 6,
    "start_time": "2022-04-03T11:25:51.340Z"
   },
   {
    "duration": 47,
    "start_time": "2022-04-03T15:04:22.024Z"
   },
   {
    "duration": 1612,
    "start_time": "2022-04-03T15:15:24.841Z"
   },
   {
    "duration": 251,
    "start_time": "2022-04-03T15:15:31.807Z"
   },
   {
    "duration": 5,
    "start_time": "2022-04-03T15:15:34.082Z"
   },
   {
    "duration": 14854,
    "start_time": "2022-04-03T15:15:36.239Z"
   },
   {
    "duration": 16,
    "start_time": "2022-04-03T15:15:51.095Z"
   },
   {
    "duration": 68,
    "start_time": "2022-04-03T15:15:58.915Z"
   },
   {
    "duration": 6,
    "start_time": "2022-04-03T15:16:09.724Z"
   },
   {
    "duration": 22,
    "start_time": "2022-04-03T15:16:11.855Z"
   },
   {
    "duration": 345,
    "start_time": "2022-04-03T15:16:13.771Z"
   },
   {
    "duration": 305,
    "start_time": "2022-04-03T15:16:14.583Z"
   },
   {
    "duration": 3279,
    "start_time": "2022-04-03T15:16:15.474Z"
   },
   {
    "duration": 4933,
    "start_time": "2022-04-03T15:16:18.755Z"
   },
   {
    "duration": 218,
    "start_time": "2022-04-03T15:16:35.608Z"
   },
   {
    "duration": 2404,
    "start_time": "2022-04-20T12:42:30.675Z"
   }
  ],
  "kernelspec": {
   "display_name": "Python 3",
   "language": "python",
   "name": "python3"
  },
  "language_info": {
   "codemirror_mode": {
    "name": "ipython",
    "version": 3
   },
   "file_extension": ".py",
   "mimetype": "text/x-python",
   "name": "python",
   "nbconvert_exporter": "python",
   "pygments_lexer": "ipython3",
   "version": "3.8.8"
  },
  "toc": {
   "base_numbering": 1,
   "nav_menu": {},
   "number_sections": true,
   "sideBar": true,
   "skip_h1_title": true,
   "title_cell": "Содержание",
   "title_sidebar": "Contents",
   "toc_cell": true,
   "toc_position": {},
   "toc_section_display": true,
   "toc_window_display": true
  }
 },
 "nbformat": 4,
 "nbformat_minor": 2
}
